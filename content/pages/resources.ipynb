{
 "cells": [
  {
   "cell_type": "markdown",
   "metadata": {},
   "source": [
    "## Blogs\n",
    "\n",
    "- [Towards Data Science](https://towardsdatascience.com/)\n",
    "\n",
    "## Courses\n",
    "\n",
    "- [IBM Data Science Course](https://www.coursera.org/professional-certificates/ibm-data-science)\n",
    "- [fast.ia](https://www.fast.ai/)\n",
    "- [Havard CS50](https://www.edx.org/course/cs50s-introduction-to-computer-science)\n",
    "\n",
    "## Books\n",
    "\n",
    "- [Doing Data Science](https://www.amazon.com/Doing-Data-Science-Straight-Frontline-ebook/dp/B00FRSNHDC)\n",
    "\n"
   ]
  }
 ],
 "metadata": {
  "kernelspec": {
   "display_name": "Python 3",
   "language": "python",
   "name": "python3"
  },
  "language_info": {
   "codemirror_mode": {
    "name": "ipython",
    "version": 3
   },
   "file_extension": ".py",
   "mimetype": "text/x-python",
   "name": "python",
   "nbconvert_exporter": "python",
   "pygments_lexer": "ipython3",
   "version": "3.8.0"
  }
 },
 "nbformat": 4,
 "nbformat_minor": 2
}
